{
 "cells": [
  {
   "cell_type": "code",
   "execution_count": 1,
   "metadata": {},
   "outputs": [],
   "source": [
    "import pandas as pd\n",
    "import httpx"
   ]
  },
  {
   "cell_type": "code",
   "execution_count": null,
   "metadata": {},
   "outputs": [],
   "source": []
  },
  {
   "cell_type": "code",
   "execution_count": null,
   "metadata": {},
   "outputs": [
    {
     "data": {
      "text/plain": [
       "<Response [200]>"
      ]
     },
     "execution_count": 18,
     "metadata": {},
     "output_type": "execute_result"
    }
   ],
   "source": [
    "## SENNET API is A MESS!!!!!!!!!!!!!!!!!!!!!!!!!!!!!!!!!!!!!!!!!!!!!!!!!!!!!!!\n",
    "import requests\n",
    "url = 'https://search.api.sennetconsortium.org/param-search/datasets?dataset_type=Histology'\n",
    "#url = 'https://search.api.sennetconsortium.org/param-search/sources?group_name=TMC%20-%20Johns%20Hopkins%20University'\n",
    "\n",
    "response = requests.get(url)\n",
    "response"
   ]
  },
  {
   "cell_type": "code",
   "execution_count": 19,
   "metadata": {},
   "outputs": [
    {
     "data": {
      "text/plain": [
       "'https://search.api.sennetconsortium.org/param-search/datasets?dataset_type=Histology'"
      ]
     },
     "execution_count": 19,
     "metadata": {},
     "output_type": "execute_result"
    }
   ],
   "source": [
    "url"
   ]
  },
  {
   "cell_type": "code",
   "execution_count": null,
   "metadata": {},
   "outputs": [
    {
     "name": "stderr",
     "output_type": "stream",
     "text": [
      "/tmp/ipykernel_186788/1475976656.py:2: DtypeWarning: Columns (2,3,4,5,6,7,10,12,17,29,31,32,33,44,48,51,52,54,57,58,59,62,64,65,75,79,83,85,86,88,90,94,99,101,103,105,106,109,111,113,116,117,118,120,121,123,127,128,129,130,132,134,139,140,141,142,144,145,146,147,148,149,150,151,152,153,154,155,156,157,158,159,160,166,170,172,174,184,191,194,196,198,199,201,204,208,218,220,225,226,228,229,230,232,234,240,242,243,245,247,248) have mixed types. Specify dtype option on import or set low_memory=False.\n",
      "  df_tem = pd.read_csv(Path_csv, sep='\\t')\n"
     ]
    },
    {
     "data": {
      "text/plain": [
       "'uuid,hubmap_id,ablation_distance_between_shots_x_units,ablation_distance_between_shots_x_value,ablation_distance_between_shots_y_units,ablation_distance_between_shots_y_value,ablation_frequency_unit,ablation_frequency_value,acquisition_instrument_model,acquisition_instrument_vendor,activation_stimulus,amount_of_input_analyte_unit,amount_of_input_analyte_value,analysis_protocol_doi,analyte_class,antibody_reagent_kit,area_normalized_ion_dose_unit,area_normalized_ion_dose_value,assay_category,assay_input_entity,assay_type,barcode_offset,barcode_read,barcode_size,bead_barcode_offset,bead_barcode_read,bead_barcode_size,bulk_atac_cell_isolation_protocols_io_doi,bulk_rna_isolation_protocols_io_doi,bulk_rna_isolation_quality_metric_value,bulk_rna_yield_units_per_tissue_unit,bulk_rna_yield_value,bulk_transposition_input_number_nuclei,calibration_kit_lot_number,capture_area_id,capture_batch_id,cell_barcode_offset,cell_barcode_read,cell_barcode_size,cell_boundary_marker_or_stain,created_by_user_displayname,created_by_user_email,created_timestamp,data_collection_mode,data_precision_bytes,dataset_type,description,desi_solvent,desi_solvent_flow_rate,desi_solvent_flow_rate_unit,dms,dna_assay_input_unit,dna_assay_input_value,donor.hubmap_id,dual_count_start,end_datetime,execution_datetime,expected_cell_count,expected_entity_capture_count,gdna_fragmentation_quality_assurance,group_name,increment_z_unit,increment_z_value,instrument_calibration_bead_kit,intended_tile_overlap_percentage,ion_mobility,is_batch_staining_done,is_cell_activation_performed,is_erythrocyte_lysis_performed,is_fcr_blocking_applied,is_heparin_used,is_image_preprocessing_required,is_staining_automated,is_targeted,is_technical_replicate,label_name,labeling,last_modified_timestamp,lc_column_length_unit,lc_column_length_value,lc_column_model,lc_column_vendor,lc_flow_rate_unit,lc_flow_rate_value,lc_gradient,lc_gradient_unit,lc_gradient_value,lc_id_unit,lc_id_value,lc_inner_diameter_unit,lc_inner_diameter_value,lc_instrument_model,lc_instrument_vendor,lc_length_unit,lc_length_value,lc_mobile_phase_a,lc_mobile_phase_b,lc_resin,lc_temp_unit,lc_temp_value,lc_temperature_unit,lc_temperature_value,library_adapter_sequence,library_average_fragment_size,library_concentration_unit,library_concentration_value,library_construction_method,library_construction_protocols_io_doi,library_creation_date,library_final_yield,library_final_yield_unit,library_final_yield_value,library_input_amount_unit,library_input_amount_value,library_layout,library_output_amount_unit,library_output_amount_value,library_pcr_cycles,library_pcr_cycles_for_sample_index,library_preparation_kit,loaded_cell_concentration_unit,loaded_cell_concentration_value,mapped_area_unit,mapped_area_value,mapped_consortium,mapped_statusdata_access_level,mass_analysis_polarity,mass_resolving_power,mass_to_charge_range_high_value,mass_to_charge_range_low_value,mass_to_charge_resolving_power,max_x_width_unit,max_x_width_value,max_y_height_unit,max_y_height_value,metadata_schema_id,ms_ionization_technique,ms_scan_mode,ms_source,mz_range_high_value,mz_range_low_value,mz_resolving_power,non_global_files,nuclear_marker_or_stain,number_of_antibodies,number_of_barcode_probes,number_of_barcode_regions_per_barcode_probe,number_of_biomarker_imaging_rounds,number_of_channels,number_of_cycles,number_of_imaging_rounds,number_of_input_cells_or_nuclei,number_of_iterations_of_cdna_amplification,number_of_mass_channels,number_of_pcr_cycles_for_indexing,number_of_pre_amplification_pcr_cycles,number_of_pseudocolors_per_channel,number_of_readout_probes_per_channel,number_of_sections,number_of_spots,number_of_total_imaging_rounds,operator,operator_email,origin_samples_unique_mapped_organs,overall_protocols_io_doi,permeabilization_time_unit,permeabilization_time_value,pi,pi_email,pixel_dwell_time_unit,pixel_dwell_time_value,pixel_size_x_unit,pixel_size_x_value,pixel_size_y_unit,pixel_size_y_value,polarity,preparation_instrument_kit,preparation_instrument_model,preparation_instrument_vendor,preparation_maldi_matrix,preparation_protocol_doi,preparation_type,primary_ion,primary_ion_current_unit,primary_ion_current_value,processing_protocols_io_doi,processing_search,protocols_io_doi,published_timestamp,puck_id,range_z_unit,range_z_value,reagent_prep_protocols_io_doi,resolution_x_unit,resolution_x_value,resolution_y_unit,resolution_y_value,resolution_z_unit,resolution_z_value,rnaseq_assay_input,rnaseq_assay_input_unit,rnaseq_assay_input_value,rnaseq_assay_method,roi_description,roi_id,sample_indexing_kit,sample_indexing_set,sample_quality_metric,sc_isolation_cell_number,sc_isolation_enrichment,sc_isolation_entity,sc_isolation_protocols_io_doi,sc_isolation_quality_metric,sc_isolation_tissue_dissociation,scan_direction,section_prep_protocols_io_doi,segment_data_format,sequencing_batch_id,sequencing_phix_percent,sequencing_read_format,sequencing_read_percent_q30,sequencing_reagent_kit,signal_type,source_project,source_storage_duration_unit,source_storage_duration_value,spatial_sampling_target,spatial_sampling_technique,spatial_sampling_type,spatial_target,spatial_type,spot_size_unit,spot_size_value,spot_spacing_unit,spot_spacing_value,stain,stain_name,stain_technique,start_datetime,status,step_z_value,tile_configuration,tiled_image_columns,tiled_image_count,time_since_acquisition_instrument_calibration_unit,time_since_acquisition_instrument_calibration_value,total_run_time_unit,total_run_time_value,transposition_input,transposition_kit_number,transposition_method,transposition_reagent_kit,transposition_transposase_source,umi_offset,umi_read,umi_size,viability_reagent_kit'"
      ]
     },
     "execution_count": 8,
     "metadata": {},
     "output_type": "execute_result"
    }
   ],
   "source": [
    "dataset_type = \"Histology\"\n",
    "organ = \"UBERON_0001013\" # SP \n",
    "base_url = \"https://search.api.sennetconsortium.org/param-search/datasets\"\n",
    "params = {\n",
    "        \"dataset_type\": dataset_type,\n",
    "        #\"organ\": organ\n",
    "    }\n",
    "\n",
    "#url = 'https://search.api.sennetconsortium.org/param-search/sources?group_name=TMC%20-%20Johns%20Hopkins%20University'\n",
    "with httpx.Client() as client:\n",
    "    response = client.get(base_url, params=params)\n",
    "\n",
    "response.json()"
   ]
  },
  {
   "cell_type": "code",
   "execution_count": null,
   "metadata": {},
   "outputs": [
    {
     "data": {
      "text/plain": [
       "array(['This is the entity from which the analyte is being captured. For example, for bulk sequencing this would be \"tissue\", while it would be \"single cell\" for single cell sequencing. This field is used to determine which analysis pipeline to run.',\n",
       "       nan, 'single nucleus', 'tissue (bulk)', 'spot', 'single cell'],\n",
       "      dtype=object)"
      ]
     },
     "execution_count": 31,
     "metadata": {},
     "output_type": "execute_result"
    }
   ],
   "source": []
  },
  {
   "cell_type": "code",
   "execution_count": 35,
   "metadata": {},
   "outputs": [
    {
     "data": {
      "text/plain": [
       "[{'url': 'https://portal.hubmapconsortium.org/browse/dataset/ba41e71358136f6a202114681a217a95',\n",
       "  'description': \"['Heart']\"},\n",
       " {'url': 'https://portal.hubmapconsortium.org/browse/dataset/7e4c58d746cdd5b36503a12c38974b0a',\n",
       "  'description': \"Cole Trapnell | ['Heart'] | DNA | sciATACseq | nucleus | TRUE\"},\n",
       " {'url': 'https://portal.hubmapconsortium.org/browse/dataset/d180976b42a9ed8b5fb12a508f79a238',\n",
       "  'description': \"['Heart']\"},\n",
       " {'url': 'https://portal.hubmapconsortium.org/browse/dataset/21043afd6be7ec258f8a9fa1577c41b5',\n",
       "  'description': \"['Heart']\"},\n",
       " {'url': 'https://portal.hubmapconsortium.org/browse/dataset/c616de3ce57804ede2dd519a1c8addf2',\n",
       "  'description': \"['Heart']\"},\n",
       " {'url': 'https://portal.hubmapconsortium.org/browse/dataset/acaf75b8292db4a79dc14e3021742217',\n",
       "  'description': \"Cole Trapnell | ['Heart'] | DNA | sciATACseq | nucleus | xyz\"},\n",
       " {'url': 'https://portal.hubmapconsortium.org/browse/dataset/2d3dbd5e5a3d9d5cfc7a46f06815a4eb',\n",
       "  'description': \"['Heart']\"},\n",
       " {'url': 'https://portal.hubmapconsortium.org/browse/dataset/6cd2abf4cbace23ff76f919a96353363',\n",
       "  'description': \"['Heart']\"},\n",
       " {'url': 'https://portal.hubmapconsortium.org/browse/dataset/d4fc9da8a21cbb323d55f38983fb3dbb',\n",
       "  'description': \"Cole Trapnell | ['Heart'] | DNA | sciATACseq | nucleus | xyz\"},\n",
       " {'url': 'https://portal.hubmapconsortium.org/browse/dataset/35e9bf0f58152ceb6f4d01052ac8867d',\n",
       "  'description': \"['Heart']\"},\n",
       " {'url': 'https://portal.hubmapconsortium.org/browse/dataset/42b73e4e346571372f4babe678688dfd',\n",
       "  'description': \"Cole Trapnell | ['Heart'] | RNA | sciRNAseq | nucleus | GentleMACS\"},\n",
       " {'url': 'https://portal.hubmapconsortium.org/browse/dataset/97d807e4d53fe7644d3dc7a63154055f',\n",
       "  'description': \"['Heart']\"},\n",
       " {'url': 'https://portal.hubmapconsortium.org/browse/dataset/76bfd5a517c681e5f672fecff2057111',\n",
       "  'description': \"Cole Trapnell | ['Heart'] | DNA | sciATACseq | nucleus | xyz\"},\n",
       " {'url': 'https://portal.hubmapconsortium.org/browse/dataset/756a0eed9508a9b96a0276b8a7a6d7e2',\n",
       "  'description': \"Cole Trapnell | ['Heart'] | RNA | sciRNAseq | nucleus | GentleMACS\"},\n",
       " {'url': 'https://portal.hubmapconsortium.org/browse/dataset/e75d8b31cfdc5f412d3cdbc2441dc352',\n",
       "  'description': \"Cole Trapnell | ['Heart'] | RNA | sciRNAseq | nucleus | GentleMACS\"},\n",
       " {'url': 'https://portal.hubmapconsortium.org/browse/dataset/3d0bf870aaa607cd0bd0146a461ea0ac',\n",
       "  'description': \"['Heart']\"},\n",
       " {'url': 'https://portal.hubmapconsortium.org/browse/dataset/d4493657cde29702c5ed73932da5317c',\n",
       "  'description': \"['Heart']\"},\n",
       " {'url': 'https://portal.hubmapconsortium.org/browse/dataset/319579dab915552f4640ecf57ce13c21',\n",
       "  'description': \"Cole Trapnell | ['Heart'] | RNA | sciRNAseq | nucleus | GentleMACS\"},\n",
       " {'url': 'https://portal.hubmapconsortium.org/browse/dataset/22684b9011fc5aea5cb3f89670a461e8',\n",
       "  'description': \"['Heart']\"},\n",
       " {'url': 'https://portal.hubmapconsortium.org/browse/dataset/d926c41ac08f3c2ba5e61eec83e90b0c',\n",
       "  'description': \"Cole Trapnell | ['Heart'] | DNA | sciATACseq | nucleus | TRUE\"},\n",
       " {'url': 'https://portal.hubmapconsortium.org/browse/dataset/8b65acdfecc504e9a96c84643c3ab02c',\n",
       "  'description': \"['Heart']\"},\n",
       " {'url': 'https://portal.hubmapconsortium.org/browse/dataset/7e39dcec932155b62e332ba7d3b18d35',\n",
       "  'description': \"Cole Trapnell | ['Heart'] | RNA | sciRNAseq | nucleus | GentleMACS\"},\n",
       " {'url': 'https://portal.hubmapconsortium.org/browse/dataset/e74ba9723d0dc2b7e83af3a084299877',\n",
       "  'description': \"['Heart']\"},\n",
       " {'url': 'https://portal.hubmapconsortium.org/browse/dataset/297ffe72553e0c6746670f684ac9626c',\n",
       "  'description': \"Cole Trapnell | ['Heart'] | DNA | sciATACseq | nucleus | TRUE\"},\n",
       " {'url': 'https://portal.hubmapconsortium.org/browse/dataset/c6a254b2dc2ed46b002500ade163a7cc',\n",
       "  'description': \"Long Cai | ['Heart'] | RNA | seqFISH\"},\n",
       " {'url': 'https://portal.hubmapconsortium.org/browse/dataset/bf6406f58d3bb6144b84ca16938315fa',\n",
       "  'description': \"Cole Trapnell | ['Heart'] | DNA | sciATACseq | nucleus | TRUE\"},\n",
       " {'url': 'https://portal.hubmapconsortium.org/browse/dataset/d39a1b1f40bbab8990078d343b332cdc',\n",
       "  'description': \"['Heart']\"},\n",
       " {'url': 'https://portal.hubmapconsortium.org/browse/dataset/f91b925ab975d7f5997c51a72d9b1329',\n",
       "  'description': \"['Heart']\"},\n",
       " {'url': 'https://portal.hubmapconsortium.org/browse/dataset/53cc1f9c21907d8f7880eed6828ba8a1',\n",
       "  'description': \"['Heart']\"},\n",
       " {'url': 'https://portal.hubmapconsortium.org/browse/dataset/bb53dbcfc65250bc99c0620c785517d4',\n",
       "  'description': \"['Heart']\"},\n",
       " {'url': 'https://portal.hubmapconsortium.org/browse/dataset/dd39ed081ffc887d85fc8225c71b37dc',\n",
       "  'description': \"Cole Trapnell | ['Heart'] | DNA | sciATACseq | nucleus | xyz\"},\n",
       " {'url': 'https://portal.hubmapconsortium.org/browse/dataset/de78115cc476af9422f916ddfbccbfb6',\n",
       "  'description': \"['Heart']\"},\n",
       " {'url': 'https://portal.hubmapconsortium.org/browse/dataset/dadef64c3beb799ac52f23911efa39a9',\n",
       "  'description': \"['Heart']\"},\n",
       " {'url': 'https://portal.hubmapconsortium.org/browse/dataset/bf88e07da70ee088e31c7f568e41b196',\n",
       "  'description': \"Cole Trapnell | ['Heart'] | DNA | sciATACseq | nucleus | xyz\"},\n",
       " {'url': 'https://portal.hubmapconsortium.org/browse/dataset/c6bb00096b0cf40751f9d6003fb730c7',\n",
       "  'description': \"['Heart']\"},\n",
       " {'url': 'https://portal.hubmapconsortium.org/browse/dataset/2d0deacd8be70eefbdc33ac107d97e58',\n",
       "  'description': \"['Heart']\"},\n",
       " {'url': 'https://portal.hubmapconsortium.org/browse/dataset/b2db3414cedf8805d20df3cf753842ca',\n",
       "  'description': \"Cole Trapnell | ['Heart'] | DNA | sciATACseq | nucleus | xyz\"},\n",
       " {'url': 'https://portal.hubmapconsortium.org/browse/dataset/3eb2ebe44756a1a9cd244d8c9507fc7b',\n",
       "  'description': \"Mike Snyder | ['Heart'] | RNA | snRNAseq | nucleus | dounce\"},\n",
       " {'url': 'https://portal.hubmapconsortium.org/browse/dataset/27bb9037a8201370846856ea4d67d402',\n",
       "  'description': \"Julia Laskin | ['Heart'] | Lipid | NanoDESI\"},\n",
       " {'url': 'https://portal.hubmapconsortium.org/browse/dataset/33b9c54d7c295897826e1e5271d4fc24',\n",
       "  'description': \"['Heart']\"},\n",
       " {'url': 'https://portal.hubmapconsortium.org/browse/dataset/e62b7f592efe97894de86cfabbfddde8',\n",
       "  'description': \"Mike Snyder | ['Heart'] | RNA | snRNAseq-10xGenomics-v3 | nucleus | dounce\"},\n",
       " {'url': 'https://portal.hubmapconsortium.org/browse/dataset/8f0becaf2d0eea9df67e45b8d66d69ac',\n",
       "  'description': \"Long Cai | ['Heart'] | RNA | seqFISH\"},\n",
       " {'url': 'https://portal.hubmapconsortium.org/browse/dataset/eaad5ed4b3aa2186bd87e05ff28b593e',\n",
       "  'description': \"Long Cai | ['Heart'] | RNA | seqFISH\"},\n",
       " {'url': 'https://portal.hubmapconsortium.org/browse/dataset/0bf827ea01b64963d39a10cac69bc386',\n",
       "  'description': \"Cole Trapnell | ['Heart'] | DNA | sciATACseq | nucleus | xyz\"},\n",
       " {'url': 'https://portal.hubmapconsortium.org/browse/dataset/17f67cb15e59f65e640d85d2f3866cde',\n",
       "  'description': \"['Heart']\"},\n",
       " {'url': 'https://portal.hubmapconsortium.org/browse/dataset/ead5cc01250b4f9ea73dd91503c313a5',\n",
       "  'description': \"Cole Trapnell | ['Heart'] | DNA | sciATACseq | nucleus | xyz\"},\n",
       " {'url': 'https://portal.hubmapconsortium.org/browse/dataset/2d4d2f368c6f74cc3aa17177924003b8',\n",
       "  'description': \"Cole Trapnell | ['Heart'] | DNA | sciATACseq | nucleus | xyz\"},\n",
       " {'url': 'https://portal.hubmapconsortium.org/browse/dataset/d612208512d1c476a5efe00dde83f97e',\n",
       "  'description': \"Cole Trapnell | ['Heart'] | RNA | sciRNAseq | nucleus | GentleMACS\"},\n",
       " {'url': 'https://portal.hubmapconsortium.org/browse/dataset/b4aff6dc9852255b800786759291ec51',\n",
       "  'description': \"Neil Kelleher | ['Heart'] | Protein | LC-MS Top-Down\"},\n",
       " {'url': 'https://portal.hubmapconsortium.org/browse/dataset/1fdf1623f3558862a1702412492da246',\n",
       "  'description': \"Julia Laskin | ['Heart'] | Lipid | NanoDESI\"},\n",
       " {'url': 'https://portal.hubmapconsortium.org/browse/dataset/b010fa2c7fbbe8200518961cf22ceb4b',\n",
       "  'description': \"['Heart']\"},\n",
       " {'url': 'https://portal.hubmapconsortium.org/browse/dataset/8f6b8e19c21a664d67a467c3a08b5630',\n",
       "  'description': \"Cole Trapnell | ['Heart'] | DNA | sciATACseq | nucleus | xyz\"},\n",
       " {'url': 'https://portal.hubmapconsortium.org/browse/dataset/9f37a9b1f6073e6e588ff7e0dd9493b5',\n",
       "  'description': \"['Heart']\"},\n",
       " {'url': 'https://portal.hubmapconsortium.org/browse/dataset/ceab8754162592b4014093f09881a47c',\n",
       "  'description': \"['Heart']\"},\n",
       " {'url': 'https://portal.hubmapconsortium.org/browse/dataset/e0148e8a78bd489d9d86c7906c184920',\n",
       "  'description': \"Cole Trapnell | ['Heart'] | RNA | sciRNAseq | nucleus | GentleMACS\"},\n",
       " {'url': 'https://portal.hubmapconsortium.org/browse/dataset/fdf26c991b398a26be1354543e54af23',\n",
       "  'description': \"Cole Trapnell | ['Heart'] | RNA | sciRNAseq | nucleus | GentleMACS\"},\n",
       " {'url': 'https://portal.hubmapconsortium.org/browse/dataset/fd57a928d9f3cee7e95d284f1d5b9935',\n",
       "  'description': \"['Heart']\"},\n",
       " {'url': 'https://portal.hubmapconsortium.org/browse/dataset/e044128c1e4150c6b9e49c2159bb5f25',\n",
       "  'description': \"['Heart']\"},\n",
       " {'url': 'https://portal.hubmapconsortium.org/browse/dataset/f19758fd3821bb492f1737a27d3e31d1',\n",
       "  'description': \"['Heart']\"},\n",
       " {'url': 'https://portal.hubmapconsortium.org/browse/dataset/232aac63e35e0fd4a856bb2ebf7f8d50',\n",
       "  'description': \"Cole Trapnell | ['Heart'] | RNA | sciRNAseq | nucleus | GentleMACS\"},\n",
       " {'url': 'https://portal.hubmapconsortium.org/browse/dataset/93cc8c450db50a224dce243a43131d3c',\n",
       "  'description': \"Cole Trapnell | ['Heart'] | DNA | sciATACseq | nucleus | xyz\"},\n",
       " {'url': 'https://portal.hubmapconsortium.org/browse/dataset/007f3dfaaa287d5c7c227651f61a9c5b',\n",
       "  'description': \"['Heart']\"},\n",
       " {'url': 'https://portal.hubmapconsortium.org/browse/dataset/01d94c78c858b9944b4bbdd5b273c2bd',\n",
       "  'description': \"['Heart']\"},\n",
       " {'url': 'https://portal.hubmapconsortium.org/browse/dataset/4c435d2297941eafda7fe30f327f88ec',\n",
       "  'description': \"['Heart']\"},\n",
       " {'url': 'https://portal.hubmapconsortium.org/browse/dataset/a48ab0bf5d8084da24859c4e64336e9c',\n",
       "  'description': \"['Heart']\"},\n",
       " {'url': 'https://portal.hubmapconsortium.org/browse/dataset/9b048a63ac274e36942d49961c330b76',\n",
       "  'description': \"Mike Snyder | ['Heart'] | RNA | snRNAseq-10xGenomics-v3 | nucleus | dounce\"},\n",
       " {'url': 'https://portal.hubmapconsortium.org/browse/dataset/b1ac71625c1aba9d819fae1725c27a42',\n",
       "  'description': \"['Heart']\"},\n",
       " {'url': 'https://portal.hubmapconsortium.org/browse/dataset/d6e6c8e452ed628425e9e928306a6db0',\n",
       "  'description': \"['Heart']\"},\n",
       " {'url': 'https://portal.hubmapconsortium.org/browse/dataset/ad26d1046084c5640f911a84e5cd0cee',\n",
       "  'description': \"Cole Trapnell | ['Heart'] | DNA | sciATACseq | nucleus | xyz\"},\n",
       " {'url': 'https://portal.hubmapconsortium.org/browse/dataset/19304b10d9e1f17af19cccb2feb014a5',\n",
       "  'description': \"['Heart']\"},\n",
       " {'url': 'https://portal.hubmapconsortium.org/browse/dataset/bd435ed6aa55e9f57d783ce630d746bf',\n",
       "  'description': \"Cole Trapnell | ['Heart'] | DNA | sciATACseq | nucleus | xyz\"},\n",
       " {'url': 'https://portal.hubmapconsortium.org/browse/dataset/a44a78bfbe0e702cdc172707b6061a16',\n",
       "  'description': \"Cole Trapnell | ['Heart'] | RNA | sciRNAseq | nucleus | GentleMACS\"},\n",
       " {'url': 'https://portal.hubmapconsortium.org/browse/dataset/ef4c4b97a759bd48807ff01400cfb2b8',\n",
       "  'description': \"['Heart']\"},\n",
       " {'url': 'https://portal.hubmapconsortium.org/browse/dataset/e2b14765979a7ce3739ef351206c6b9c',\n",
       "  'description': \"Neil Kelleher | ['Heart'] | Protein | LC-MS Top-Down\"},\n",
       " {'url': 'https://portal.hubmapconsortium.org/browse/dataset/26e1f2991c6f67fa10e9670f1bc0da6a',\n",
       "  'description': \"['Heart']\"},\n",
       " {'url': 'https://portal.hubmapconsortium.org/browse/dataset/9e91d1be412466551533cce5594450cb',\n",
       "  'description': \"['Heart']\"},\n",
       " {'url': 'https://portal.hubmapconsortium.org/browse/dataset/394852db8fe78f70865b881d5ad40f45',\n",
       "  'description': \"Cole Trapnell | ['Heart'] | RNA | sciRNAseq | nucleus | GentleMACS\"},\n",
       " {'url': 'https://portal.hubmapconsortium.org/browse/dataset/29610875ec053f0efb6c493c8329c1b8',\n",
       "  'description': \"['Heart']\"},\n",
       " {'url': 'https://portal.hubmapconsortium.org/browse/dataset/1324f228f23b7ec156c6c58a66bd58fd',\n",
       "  'description': \"['Heart']\"},\n",
       " {'url': 'https://portal.hubmapconsortium.org/browse/dataset/224e01ccfc20977ee5a6a6a5b96aa7d7',\n",
       "  'description': \"['Heart']\"},\n",
       " {'url': 'https://portal.hubmapconsortium.org/browse/dataset/efe540732d86ec1fee3c0b0cff7313e9',\n",
       "  'description': \"Julia Laskin | ['Heart'] | Lipid | NanoDESI\"},\n",
       " {'url': 'https://portal.hubmapconsortium.org/browse/dataset/8d72d5e9ffc2a0a50041b8b77d835645',\n",
       "  'description': \"Julia Laskin | ['Heart'] | Lipid | NanoDESI\"},\n",
       " {'url': 'https://portal.hubmapconsortium.org/browse/dataset/d0f164331f53f745cfa3e67bf3feb22d',\n",
       "  'description': \"['Heart']\"},\n",
       " {'url': 'https://portal.hubmapconsortium.org/browse/dataset/c715da8f682da0b39231ba04c07f18c6',\n",
       "  'description': \"['Heart']\"},\n",
       " {'url': 'https://portal.hubmapconsortium.org/browse/dataset/4b0a0671bad77bc469ae000a66535f31',\n",
       "  'description': \"Cole Trapnell | ['Heart'] | RNA | sciRNAseq | nucleus | GentleMACS\"},\n",
       " {'url': 'https://portal.hubmapconsortium.org/browse/dataset/e4b371ea3ed4c3ca77791b34b829803f',\n",
       "  'description': \"Cole Trapnell | ['Heart'] | DNA | sciATACseq | nucleus | xyz\"},\n",
       " {'url': 'https://portal.hubmapconsortium.org/browse/dataset/7d70a4deb9e2f0592f0c56e20ca91169',\n",
       "  'description': \"['Heart']\"}]"
      ]
     },
     "execution_count": 35,
     "metadata": {},
     "output_type": "execute_result"
    }
   ],
   "source": [
    "def filter_by_organ(df, organ=\"heart\"):\n",
    "    return df[df['origin_samples_unique_mapped_organs'].str.contains(organ, case=False, na=False)]\n",
    "\n",
    "\n",
    "def build_dataset_descriptions(df):\n",
    "    \"\"\"\n",
    "    Build a list of dicts with HuBMAP dataset URLs and descriptions from selected columns.\n",
    "    \n",
    "    Args:\n",
    "        df (pd.DataFrame): A DataFrame with columns including:\n",
    "            - 'uuid', 'donor.hubmap_id', 'puck_id', 'pi',\n",
    "              'origin_samples_unique_mapped_organs', 'analyte_class',\n",
    "              'assay_type', 'assay_input_entity', 'spatial_target',\n",
    "              'sc_isolation_entity', 'sc_isolation_tissue_dissociation'\n",
    "    \n",
    "    Returns:\n",
    "        List[dict]: Each dict has keys 'url' and 'description'\n",
    "    \"\"\"\n",
    "    results = []\n",
    "\n",
    "    for _, row in df.iterrows():\n",
    "        uuid = row.get('uuid', '')\n",
    "        url = f\"https://portal.hubmapconsortium.org/browse/dataset/{uuid}\"\n",
    "\n",
    "        description_fields = [\n",
    "            row.get('pi', ''),\n",
    "            row.get('origin_samples_unique_mapped_organs', ''),\n",
    "            row.get('analyte_class', ''),\n",
    "            row.get('assay_type', ''),\n",
    "            row.get('assay_input_entity', ''),\n",
    "            row.get('spatial_target', ''),\n",
    "            row.get('sc_isolation_entity', ''),\n",
    "            row.get('sc_isolation_tissue_dissociation', ''),\n",
    "        ]\n",
    "        # Filter out None or empty string, then join with \" | \"\n",
    "        description = \" | \".join(str(f) for f in description_fields if pd.notna(f) and str(f).strip())\n",
    "        results.append({\n",
    "            'url': url,\n",
    "            'description': description\n",
    "        })\n",
    "\n",
    "    return results\n",
    "\n",
    "# Generate result\n",
    "heart_df = build_dataset_descriptions(filter_by_organ(df_tem, \"heart\"))\n",
    "heart_df"
   ]
  },
  {
   "cell_type": "code",
   "execution_count": null,
   "metadata": {},
   "outputs": [],
   "source": []
  },
  {
   "cell_type": "code",
   "execution_count": null,
   "metadata": {},
   "outputs": [],
   "source": []
  },
  {
   "cell_type": "code",
   "execution_count": null,
   "metadata": {},
   "outputs": [],
   "source": []
  },
  {
   "cell_type": "code",
   "execution_count": null,
   "metadata": {},
   "outputs": [],
   "source": []
  },
  {
   "cell_type": "code",
   "execution_count": null,
   "metadata": {},
   "outputs": [],
   "source": [
    "from os import environ\n",
    "from hubmap_api_py_client import Client\n",
    "#client = Client(environ['API_ENDPOINT'])\n",
    "endpoint = environ.get('API_ENDPOINT', 'https://cells.api.hubmapconsortium.org/api/')#'https://search.api.hubmapconsortium.org/v3/')\n",
    "#'https://cells.api.hubmapconsortium.org/api')#'https://default.api.endpoint/v3')\n",
    "client = Client(endpoint)"
   ]
  },
  {
   "cell_type": "code",
   "execution_count": null,
   "metadata": {},
   "outputs": [],
   "source": []
  },
  {
   "cell_type": "code",
   "execution_count": 17,
   "metadata": {},
   "outputs": [],
   "source": [
    "#[m for m in dir(client) if m.startswith('select_')]\n",
    "#gene_symbol = \n",
    "#client.select_genes(where=\"modality\", has=[\"rna\"]).get_list()[0]['gene_symbol']"
   ]
  },
  {
   "cell_type": "code",
   "execution_count": 25,
   "metadata": {},
   "outputs": [],
   "source": [
    "cell_type = client.select_celltypes().get_list()\n",
    "#cells_with_celltype = client.select_cells(where='celltype', has=[cell_type])\n",
    "#assert len(cells_with_celltype) > 0\n"
   ]
  },
  {
   "cell_type": "code",
   "execution_count": 34,
   "metadata": {},
   "outputs": [],
   "source": [
    "organ_name = client.select_organs().get_list()[0]['grouping_name']\n",
    "cells_in_organ = client.select_cells(where='organ', has=[organ_name])\n",
    "assert len(cells_in_organ) > 0\n"
   ]
  },
  {
   "cell_type": "code",
   "execution_count": null,
   "metadata": {},
   "outputs": [],
   "source": []
  },
  {
   "cell_type": "code",
   "execution_count": null,
   "metadata": {},
   "outputs": [],
   "source": []
  },
  {
   "cell_type": "code",
   "execution_count": 69,
   "metadata": {},
   "outputs": [],
   "source": [
    "[m for m in dir(client) if m.startswith('select_')]\n",
    "['select_cells', 'select_celltypes', 'select_clusters', 'select_datasets', 'select_genes', 'select_organs', 'select_proteins']\n",
    "\n",
    "gene_symbol = client.select_genes(where=\"modality\", has=[\"rna\"]).get_list()[0]['gene_symbol']\n",
    "cells_with_gene = client.select_cells(where='gene', has=[f'{gene_symbol} > 0.5'], genomic_modality='rna')\n",
    "assert len(cells_with_gene) > 0\n",
    "\n",
    "# Select cells from the datasets with the following UUIDs:\n",
    "dataset_a_uuid = client.select_datasets(where=\"gene\", has=[f'{gene_symbol} > 1'], genomic_modality=\"rna\", min_cell_percentage=0.0).get_list()[0]['uuid']\n",
    "dataset_b_uuid = client.select_datasets(where=\"gene\", has=[f'{gene_symbol} > 1'], genomic_modality=\"rna\", min_cell_percentage=0.0).get_list()[1]['uuid']\n",
    "cells_in_a_len = len(client.select_cells(where='dataset', has=[dataset_a_uuid]))\n",
    "cells_in_b_len = len(client.select_cells(where='dataset', has=[dataset_b_uuid]))\n",
    "cells_in_datasets = client.select_cells(where='dataset', has=[dataset_a_uuid, dataset_b_uuid])\n",
    "cells_in_datasets_len = len(cells_in_datasets)\n",
    "assert cells_in_datasets_len > 0\n",
    "assert cells_in_datasets_len == cells_in_a_len + cells_in_b_len\n",
    "\n",
    "# Combine criteria with intersection:\n",
    "cells_with_gene_in_datasets = cells_with_gene & cells_in_datasets\n",
    "\n",
    "# Get a list; should run quickly:\n",
    "cell_list = cells_with_gene.get_list()\n",
    "\n",
    "cells = cell_list[0:10]\n",
    "assert len(cells) > 0\n",
    "assert cells[0].keys() == {'cell_id', 'modality', 'dataset', 'organ', 'cell_type' ,'clusters'}"
   ]
  },
  {
   "cell_type": "code",
   "execution_count": null,
   "metadata": {},
   "outputs": [],
   "source": []
  },
  {
   "cell_type": "code",
   "execution_count": null,
   "metadata": {},
   "outputs": [],
   "source": []
  },
  {
   "cell_type": "code",
   "execution_count": null,
   "metadata": {},
   "outputs": [],
   "source": []
  }
 ],
 "metadata": {
  "kernelspec": {
   "display_name": "base",
   "language": "python",
   "name": "python3"
  },
  "language_info": {
   "codemirror_mode": {
    "name": "ipython",
    "version": 3
   },
   "file_extension": ".py",
   "mimetype": "text/x-python",
   "name": "python",
   "nbconvert_exporter": "python",
   "pygments_lexer": "ipython3",
   "version": "3.11.9"
  }
 },
 "nbformat": 4,
 "nbformat_minor": 2
}
