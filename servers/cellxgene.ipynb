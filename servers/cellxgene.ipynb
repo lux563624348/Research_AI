{
 "cells": [
  {
   "cell_type": "code",
   "execution_count": null,
   "metadata": {},
   "outputs": [],
   "source": [
    "import cellxgene_census"
   ]
  },
  {
   "cell_type": "code",
   "execution_count": 20,
   "metadata": {},
   "outputs": [
    {
     "data": {
      "text/html": [
       "<div>\n",
       "<style scoped>\n",
       "    .dataframe tbody tr th:only-of-type {\n",
       "        vertical-align: middle;\n",
       "    }\n",
       "\n",
       "    .dataframe tbody tr th {\n",
       "        vertical-align: top;\n",
       "    }\n",
       "\n",
       "    .dataframe thead th {\n",
       "        text-align: right;\n",
       "    }\n",
       "</style>\n",
       "<table border=\"1\" class=\"dataframe\">\n",
       "  <thead>\n",
       "    <tr style=\"text-align: right;\">\n",
       "      <th></th>\n",
       "      <th>soma_joinid</th>\n",
       "      <th>citation</th>\n",
       "      <th>collection_id</th>\n",
       "      <th>collection_name</th>\n",
       "      <th>collection_doi</th>\n",
       "      <th>collection_doi_label</th>\n",
       "      <th>dataset_id</th>\n",
       "      <th>dataset_version_id</th>\n",
       "      <th>dataset_title</th>\n",
       "      <th>dataset_h5ad_path</th>\n",
       "      <th>dataset_total_cell_count</th>\n",
       "    </tr>\n",
       "  </thead>\n",
       "  <tbody>\n",
       "    <tr>\n",
       "      <th>6</th>\n",
       "      <td>444</td>\n",
       "      <td>Publication: https://doi.org/10.1038/s41586-02...</td>\n",
       "      <td>0b9d8a04-bb9d-44da-aa27-705bb65b54eb</td>\n",
       "      <td>Tabula Muris Senis</td>\n",
       "      <td>10.1038/s41586-020-2496-1</td>\n",
       "      <td>The Tabula Muris Consortium et al. (2020) Nature</td>\n",
       "      <td>4546e757-34d0-4d17-be06-538318925fcd</td>\n",
       "      <td>ab2c1368-ab62-44a2-8bb2-18e8999acd64</td>\n",
       "      <td>Liver - A single-cell transcriptomic atlas cha...</td>\n",
       "      <td>4546e757-34d0-4d17-be06-538318925fcd.h5ad</td>\n",
       "      <td>2859</td>\n",
       "    </tr>\n",
       "  </tbody>\n",
       "</table>\n",
       "</div>"
      ],
      "text/plain": [
       "   soma_joinid                                           citation  \\\n",
       "6          444  Publication: https://doi.org/10.1038/s41586-02...   \n",
       "\n",
       "                          collection_id     collection_name  \\\n",
       "6  0b9d8a04-bb9d-44da-aa27-705bb65b54eb  Tabula Muris Senis   \n",
       "\n",
       "              collection_doi  \\\n",
       "6  10.1038/s41586-020-2496-1   \n",
       "\n",
       "                               collection_doi_label  \\\n",
       "6  The Tabula Muris Consortium et al. (2020) Nature   \n",
       "\n",
       "                             dataset_id                    dataset_version_id  \\\n",
       "6  4546e757-34d0-4d17-be06-538318925fcd  ab2c1368-ab62-44a2-8bb2-18e8999acd64   \n",
       "\n",
       "                                       dataset_title  \\\n",
       "6  Liver - A single-cell transcriptomic atlas cha...   \n",
       "\n",
       "                           dataset_h5ad_path  dataset_total_cell_count  \n",
       "6  4546e757-34d0-4d17-be06-538318925fcd.h5ad                      2859  "
      ]
     },
     "execution_count": 20,
     "metadata": {},
     "output_type": "execute_result"
    }
   ],
   "source": [
    "#census_datasets.loc[tabula_liver,].head(1)"
   ]
  },
  {
   "cell_type": "code",
   "execution_count": 7,
   "metadata": {},
   "outputs": [],
   "source": [
    "# Default fallback to prevent huge queries\n",
    "tissue = \"decidua basalis\"\n",
    "cell_type_ontology_term_id = \"CL:0000525\"\n",
    "dataset_id = \"f171db61-e57e-4535-a06a-35d8b6ef8f2b\"\n",
    "is_primary_data = True\n",
    "# Mapping of field names to values\n",
    "filter_args = {\n",
    "    \"dataset_id\": dataset_id,\n",
    "    \"cell_type_ontology_term_id\": cell_type_ontology_term_id,\n",
    "    \"tissue\": tissue\n",
    "}"
   ]
  },
  {
   "cell_type": "code",
   "execution_count": 8,
   "metadata": {},
   "outputs": [
    {
     "data": {
      "text/plain": [
       "'is_primary_data == True and dataset_id in [\"f171db61-e57e-4535-a06a-35d8b6ef8f2b\"] and cell_type_ontology_term_id in [\"CL:0000525\"] and tissue in [\"decidua basalis\"]'"
      ]
     },
     "execution_count": 8,
     "metadata": {},
     "output_type": "execute_result"
    }
   ],
   "source": [
    "# Convert all values to list\n",
    "filter_args = {k: v if isinstance(v, list) else [v] for k, v in filter_args.items() if v is not None}\n",
    "\n",
    "# Build value_filter string\n",
    "filters = []\n",
    "if is_primary_data:\n",
    "    filters.append(\"is_primary_data == True\")\n",
    "for k, v in filter_args.items():\n",
    "    if v:\n",
    "        quoted = [f'\"{x}\"' for x in v]\n",
    "        filters.append(f\"{k} in [{', '.join(quoted)}]\")\n",
    "value_filter = \" and \".join(filters) if filters else None\n",
    "value_filter"
   ]
  },
  {
   "cell_type": "code",
   "execution_count": null,
   "metadata": {},
   "outputs": [],
   "source": [
    "census_datasets = (census[\"census_info\"][\"datasets\"].read().concat().to_pandas())"
   ]
  },
  {
   "cell_type": "code",
   "execution_count": 34,
   "metadata": {},
   "outputs": [],
   "source": [
    "census_datasets.to_csv(\"census_info_datasets.tsv\", sep='\\t', index=None)"
   ]
  },
  {
   "cell_type": "code",
   "execution_count": 17,
   "metadata": {},
   "outputs": [
    {
     "data": {
      "text/html": [
       "<div>\n",
       "<style scoped>\n",
       "    .dataframe tbody tr th:only-of-type {\n",
       "        vertical-align: middle;\n",
       "    }\n",
       "\n",
       "    .dataframe tbody tr th {\n",
       "        vertical-align: top;\n",
       "    }\n",
       "\n",
       "    .dataframe thead th {\n",
       "        text-align: right;\n",
       "    }\n",
       "</style>\n",
       "<table border=\"1\" class=\"dataframe\">\n",
       "  <thead>\n",
       "    <tr style=\"text-align: right;\">\n",
       "      <th></th>\n",
       "      <th>soma_joinid</th>\n",
       "      <th>citation</th>\n",
       "      <th>collection_id</th>\n",
       "      <th>collection_name</th>\n",
       "      <th>collection_doi</th>\n",
       "      <th>collection_doi_label</th>\n",
       "      <th>dataset_id</th>\n",
       "      <th>dataset_version_id</th>\n",
       "      <th>dataset_title</th>\n",
       "      <th>dataset_h5ad_path</th>\n",
       "      <th>dataset_total_cell_count</th>\n",
       "    </tr>\n",
       "  </thead>\n",
       "  <tbody>\n",
       "    <tr>\n",
       "      <th>6</th>\n",
       "      <td>444</td>\n",
       "      <td>Publication: https://doi.org/10.1038/s41586-02...</td>\n",
       "      <td>0b9d8a04-bb9d-44da-aa27-705bb65b54eb</td>\n",
       "      <td>Tabula Muris Senis</td>\n",
       "      <td>10.1038/s41586-020-2496-1</td>\n",
       "      <td>The Tabula Muris Consortium et al. (2020) Nature</td>\n",
       "      <td>4546e757-34d0-4d17-be06-538318925fcd</td>\n",
       "      <td>ab2c1368-ab62-44a2-8bb2-18e8999acd64</td>\n",
       "      <td>Liver - A single-cell transcriptomic atlas cha...</td>\n",
       "      <td>4546e757-34d0-4d17-be06-538318925fcd.h5ad</td>\n",
       "      <td>2859</td>\n",
       "    </tr>\n",
       "  </tbody>\n",
       "</table>\n",
       "</div>"
      ],
      "text/plain": [
       "   soma_joinid                                           citation  \\\n",
       "6          444  Publication: https://doi.org/10.1038/s41586-02...   \n",
       "\n",
       "                          collection_id     collection_name  \\\n",
       "6  0b9d8a04-bb9d-44da-aa27-705bb65b54eb  Tabula Muris Senis   \n",
       "\n",
       "              collection_doi  \\\n",
       "6  10.1038/s41586-020-2496-1   \n",
       "\n",
       "                               collection_doi_label  \\\n",
       "6  The Tabula Muris Consortium et al. (2020) Nature   \n",
       "\n",
       "                             dataset_id                    dataset_version_id  \\\n",
       "6  4546e757-34d0-4d17-be06-538318925fcd  ab2c1368-ab62-44a2-8bb2-18e8999acd64   \n",
       "\n",
       "                                       dataset_title  \\\n",
       "6  Liver - A single-cell transcriptomic atlas cha...   \n",
       "\n",
       "                           dataset_h5ad_path  dataset_total_cell_count  \n",
       "6  4546e757-34d0-4d17-be06-538318925fcd.h5ad                      2859  "
      ]
     },
     "execution_count": 17,
     "metadata": {},
     "output_type": "execute_result"
    }
   ],
   "source": [
    "census = cellxgene_census.open_soma(census_version=\"latest\")\n",
    "census_datasets = (\n",
    "    census[\"census_info\"][\"datasets\"].read(value_filter=\"collection_name == 'Tabula Muris Senis'\").concat().to_pandas()\n",
    ")\n",
    "tabula_liver = census_datasets[\"dataset_title\"].str.contains(\"liver\", case=False)\n",
    "census_datasets.loc[tabula_liver,].head(1)\n"
   ]
  },
  {
   "cell_type": "code",
   "execution_count": null,
   "metadata": {},
   "outputs": [],
   "source": [
    "species=\"homo_sapiens\"\n",
    "obs_df = cellxgene_census.get_obs(\n",
    "            census,\n",
    "            species,\n",
    "            column_names=[\"dataset_id\", \"tissue_general\"]\n",
    "        )\n",
    "\n",
    "obs_df = obs_df.drop_duplicates()\n",
    "#.to_csv(\"census_info_id_per_tissue.tsv\", sep='\\t', index=None)\n",
    "\n"
   ]
  },
  {
   "cell_type": "code",
   "execution_count": null,
   "metadata": {},
   "outputs": [],
   "source": []
  },
  {
   "cell_type": "code",
   "execution_count": null,
   "metadata": {},
   "outputs": [
    {
     "name": "stderr",
     "output_type": "stream",
     "text": [
      "/tmp/ipykernel_47729/2498269174.py:4: FutureWarning: The default of observed=False is deprecated and will be changed to True in a future version of pandas. Pass observed=False to retain current behavior or observed=True to adopt the future default and silence this warning.\n",
      "  .groupby(\"dataset_id\")[\"tissue_general\"]\n"
     ]
    },
    {
     "ename": "NameError",
     "evalue": "name 'pd' is not defined",
     "output_type": "error",
     "traceback": [
      "\u001b[31m---------------------------------------------------------------------------\u001b[39m",
      "\u001b[31mNameError\u001b[39m                                 Traceback (most recent call last)",
      "\u001b[36mCell\u001b[39m\u001b[36m \u001b[39m\u001b[32mIn[43]\u001b[39m\u001b[32m, line 11\u001b[39m\n\u001b[32m      8\u001b[39m tissue_map[\u001b[33m\"\u001b[39m\u001b[33mtissue_general\u001b[39m\u001b[33m\"\u001b[39m] = tissue_map[\u001b[33m\"\u001b[39m\u001b[33mtissue_general\u001b[39m\u001b[33m\"\u001b[39m].apply(\u001b[38;5;28mlist\u001b[39m)\n\u001b[32m     10\u001b[39m \u001b[38;5;66;03m# 4. Merge tissue info into datasets\u001b[39;00m\n\u001b[32m---> \u001b[39m\u001b[32m11\u001b[39m merged = \u001b[43mpd\u001b[49m.merge(census_datasets, tissue_map, on=\u001b[33m\"\u001b[39m\u001b[33mdataset_id\u001b[39m\u001b[33m\"\u001b[39m, how=\u001b[33m\"\u001b[39m\u001b[33mleft\u001b[39m\u001b[33m\"\u001b[39m)\n",
      "\u001b[31mNameError\u001b[39m: name 'pd' is not defined"
     ]
    }
   ],
   "source": [
    "# 3. Aggregate tissues by dataset_id\n",
    "tissue_map = (\n",
    "    obs_df.dropna(subset=[\"tissue_general\"])\n",
    "    .groupby(\"dataset_id\", observed=False)[\"tissue_general\"]\n",
    "    .unique()\n",
    "    .reset_index()\n",
    ")\n",
    "tissue_map[\"tissue_general\"] = tissue_map[\"tissue_general\"].apply(list)\n",
    "\n",
    "# 4. Merge tissue info into datasets\n",
    "merged = pd.merge(census_datasets, tissue_map, on=\"dataset_id\", how=\"left\")\n"
   ]
  },
  {
   "cell_type": "code",
   "execution_count": null,
   "metadata": {},
   "outputs": [],
   "source": [
    "    with cellxgene_census.open_soma(census_version=census_version) as census:\n",
    "\n",
    "        obs_df = cellxgene_census.get_obs(\n",
    "            census,\n",
    "            species,\n",
    "            value_filter=value_filter,\n",
    "            column_names=column_names\n",
    "        ).head(100)  # Limit to 100 rows to avoid timeout\n",
    "\n",
    "    dataset_ids = sorted(obs_df[\"dataset_id\"].dropna().unique().tolist())"
   ]
  },
  {
   "cell_type": "code",
   "execution_count": 6,
   "metadata": {},
   "outputs": [],
   "source": [
    "import os\n",
    "import httpx\n",
    "from typing import Optional"
   ]
  },
  {
   "cell_type": "code",
   "execution_count": 14,
   "metadata": {},
   "outputs": [],
   "source": [
    "async def make_hubmap_endpoint_request_tbd(endpoint: str, query_param: dict) -> Optional[dict]:\n",
    "    \"\"\"\n",
    "    Query HuBMAP API v3 and return the JSON response.\n",
    "\n",
    "    Args:\n",
    "        endpoint (str): HuBMAP API endpoint path (e.g., \"search\", \"entities/{id}\", etc.).\n",
    "        query_param (dict): Dictionary of query parameters.\n",
    "\n",
    "    Returns:\n",
    "        Optional[dict]: Parsed JSON response from HuBMAP API, or None if an error occurred.\n",
    "    \"\"\"\n",
    "    try:\n",
    "        async with httpx.AsyncClient(timeout=30.0) as client:\n",
    "            base_url = \"https://search.api.hubmapconsortium.org/v3\"\n",
    "            url = f\"{base_url}/{endpoint.lstrip('/')}\"\n",
    "            response = await client.get(url, params=query_param)\n",
    "            response.raise_for_status()\n",
    "            return response.json()\n",
    "    except Exception as e:\n",
    "        print(f\"❌ HuBMAP API request failed: {e}\")\n",
    "        return None\n",
    "    \n",
    "def structured_response(data=None, message=\"success\", status=\"success\"):\n",
    "    \"\"\"\n",
    "    Create a consistent response format for MCP tools.\n",
    "\n",
    "    Args:\n",
    "        data (Any): The actual data payload (list, dict, str, etc.)\n",
    "        message (str): A short message about the result.\n",
    "        status (str): Either 'success' or 'error'.\n",
    "\n",
    "    Returns:\n",
    "        dict: Standardized response object.\n",
    "    \"\"\"\n",
    "    return {\n",
    "        \"status\": status,\n",
    "        \"context\": message,\n",
    "        \"content\": data if data is not None else [],\n",
    "    }\n",
    "\n",
    "async def make_hubmap_endpoint_request(endpoint: str, query_body: dict) -> Optional[dict]:\n",
    "    \"\"\"\n",
    "    Query HuBMAP API via /v3/search and return JSON response.\n",
    "\n",
    "    Args:\n",
    "        endpoint (str): HuBMAP API endpoint (e.g., \"search\", etc.).\n",
    "        query_body (dict): Dictionary of query parameters (sent in POST body).\n",
    "\n",
    "    Returns:\n",
    "        Optional[dict]: Parsed JSON response from the HuBMAP API, or None if an error occurred.\n",
    "    \"\"\"\n",
    "    try:\n",
    "        async with httpx.AsyncClient(timeout=30.0) as client:\n",
    "            url = f\"https://search.api.hubmapconsortium.org/v3/{endpoint}\"\n",
    "            headers = {\"Content-Type\": \"application/json\"}\n",
    "            response = await client.post(url, headers=headers, json=query_body)\n",
    "            response.raise_for_status()\n",
    "            return response.json()\n",
    "    except Exception as e:\n",
    "        print(f\"❌ HuBMAP API request failed: {e}\")\n",
    "        return None\n",
    "\n",
    "async def search_metadata_by_organ(organ: str, size: int = 20) -> Optional[dict]:\n",
    "    \"\"\"\n",
    "    Search HuBMAP metadata entries for a given organ using the HuBMAP API.\n",
    "\n",
    "    Args:\n",
    "        organ (str): Name of the organ to search for (e.g., \"kidney\").\n",
    "        size (int): Maximum number of entries to return (default: 20).\n",
    "\n",
    "    Returns:\n",
    "        Optional[dict]: Search results containing metadata for the specified organ.\n",
    "    \"\"\"\n",
    "    query = {\n",
    "        \"q\": f\"organ:{organ}\",\n",
    "        \"size\": size,\n",
    "        \"sort\": \"last_modified_timestamp:desc\"\n",
    "    }\n",
    "\n",
    "    result = await make_hubmap_endpoint_request(\"search\", query)\n",
    "    \n",
    "    if result is None or \"hits\" not in result:\n",
    "        return {\"status\": \"error\", \"message\": \"No results or request failed.\"}\n",
    "    \n",
    "    return {\n",
    "        \"status\": \"success\",\n",
    "        \"count\": len(result[\"hits\"][\"hits\"]),\n",
    "        \"results\": [\n",
    "            {\n",
    "                \"entity_id\": hit[\"_id\"],\n",
    "                \"organ\": hit[\"_source\"].get(\"organ\"),\n",
    "                \"donor_id\": hit[\"_source\"].get(\"donor\", {}).get(\"hubmap_id\"),\n",
    "                \"last_modified\": hit[\"_source\"].get(\"last_modified_timestamp\"),\n",
    "                \"sample_type\": hit[\"_source\"].get(\"sample_category\"),\n",
    "            }\n",
    "            for hit in result[\"hits\"][\"hits\"]\n",
    "        ]\n",
    "    }"
   ]
  },
  {
   "cell_type": "code",
   "execution_count": 16,
   "metadata": {},
   "outputs": [
    {
     "name": "stdout",
     "output_type": "stream",
     "text": [
      "❌ HuBMAP API request failed: Client error '400 Bad Request' for url 'https://search.api.hubmapconsortium.org/v3/search'\n",
      "For more information check: https://developer.mozilla.org/en-US/docs/Web/HTTP/Status/400\n"
     ]
    }
   ],
   "source": [
    "result = await search_metadata_by_organ(\"heart\")"
   ]
  },
  {
   "cell_type": "code",
   "execution_count": 11,
   "metadata": {},
   "outputs": [
    {
     "ename": "AttributeError",
     "evalue": "'coroutine' object has no attribute 'get'",
     "output_type": "error",
     "traceback": [
      "\u001b[31m---------------------------------------------------------------------------\u001b[39m",
      "\u001b[31mAttributeError\u001b[39m                            Traceback (most recent call last)",
      "\u001b[36mCell\u001b[39m\u001b[36m \u001b[39m\u001b[32mIn[11]\u001b[39m\u001b[32m, line 1\u001b[39m\n\u001b[32m----> \u001b[39m\u001b[32m1\u001b[39m \u001b[43mxx\u001b[49m\u001b[43m.\u001b[49m\u001b[43mget\u001b[49m(\u001b[33m\"\u001b[39m\u001b[33mresults\u001b[39m\u001b[33m\"\u001b[39m)\n",
      "\u001b[31mAttributeError\u001b[39m: 'coroutine' object has no attribute 'get'"
     ]
    }
   ],
   "source": [
    "xx.get(\"results\")"
   ]
  }
 ],
 "metadata": {
  "kernelspec": {
   "display_name": "base",
   "language": "python",
   "name": "python3"
  },
  "language_info": {
   "codemirror_mode": {
    "name": "ipython",
    "version": 3
   },
   "file_extension": ".py",
   "mimetype": "text/x-python",
   "name": "python",
   "nbconvert_exporter": "python",
   "pygments_lexer": "ipython3",
   "version": "3.11.9"
  }
 },
 "nbformat": 4,
 "nbformat_minor": 2
}
